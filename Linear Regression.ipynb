{
 "cells": [
  {
   "cell_type": "markdown",
   "metadata": {},
   "source": [
    "# Using Python and PyTorch to implement linear regression using gradient decent based. "
   ]
  },
  {
   "cell_type": "code",
   "execution_count": 1,
   "metadata": {},
   "outputs": [],
   "source": [
    "from sklearn.datasets import make_regression\n",
    "from sklearn.model_selection import train_test_split\n",
    "from sklearn.metrics import mean_squared_error\n",
    "\n",
    "import pandas as pd\n",
    "import numpy as np\n",
    "import matplotlib.pyplot as plt"
   ]
  },
  {
   "cell_type": "code",
   "execution_count": 2,
   "metadata": {},
   "outputs": [],
   "source": [
    "## Creating the dataset according to given instructions\n",
    "\n",
    "dataset = make_regression(n_samples=500, n_features=3, random_state=10)"
   ]
  },
  {
   "cell_type": "code",
   "execution_count": 3,
   "metadata": {},
   "outputs": [],
   "source": [
    "## Extracting features and labels from dataset\n",
    "\n",
    "X = dataset[0]\n",
    "y = dataset[1]"
   ]
  },
  {
   "cell_type": "code",
   "execution_count": 4,
   "metadata": {},
   "outputs": [
    {
     "data": {
      "text/html": [
       "<div>\n",
       "<style scoped>\n",
       "    .dataframe tbody tr th:only-of-type {\n",
       "        vertical-align: middle;\n",
       "    }\n",
       "\n",
       "    .dataframe tbody tr th {\n",
       "        vertical-align: top;\n",
       "    }\n",
       "\n",
       "    .dataframe thead th {\n",
       "        text-align: right;\n",
       "    }\n",
       "</style>\n",
       "<table border=\"1\" class=\"dataframe\">\n",
       "  <thead>\n",
       "    <tr style=\"text-align: right;\">\n",
       "      <th></th>\n",
       "      <th>0</th>\n",
       "      <th>1</th>\n",
       "      <th>2</th>\n",
       "    </tr>\n",
       "  </thead>\n",
       "  <tbody>\n",
       "    <tr>\n",
       "      <th>0</th>\n",
       "      <td>1.862952</td>\n",
       "      <td>0.073283</td>\n",
       "      <td>1.173732</td>\n",
       "    </tr>\n",
       "    <tr>\n",
       "      <th>1</th>\n",
       "      <td>1.379338</td>\n",
       "      <td>0.806391</td>\n",
       "      <td>0.749548</td>\n",
       "    </tr>\n",
       "    <tr>\n",
       "      <th>2</th>\n",
       "      <td>2.394704</td>\n",
       "      <td>0.842225</td>\n",
       "      <td>0.203581</td>\n",
       "    </tr>\n",
       "    <tr>\n",
       "      <th>3</th>\n",
       "      <td>0.149455</td>\n",
       "      <td>-0.287584</td>\n",
       "      <td>0.846675</td>\n",
       "    </tr>\n",
       "    <tr>\n",
       "      <th>4</th>\n",
       "      <td>0.430651</td>\n",
       "      <td>-2.376758</td>\n",
       "      <td>-1.176299</td>\n",
       "    </tr>\n",
       "  </tbody>\n",
       "</table>\n",
       "</div>"
      ],
      "text/plain": [
       "          0         1         2\n",
       "0  1.862952  0.073283  1.173732\n",
       "1  1.379338  0.806391  0.749548\n",
       "2  2.394704  0.842225  0.203581\n",
       "3  0.149455 -0.287584  0.846675\n",
       "4  0.430651 -2.376758 -1.176299"
      ]
     },
     "execution_count": 4,
     "metadata": {},
     "output_type": "execute_result"
    }
   ],
   "source": [
    "## Having a look at our dataset\n",
    "\n",
    "pd.DataFrame(X).head()"
   ]
  },
  {
   "cell_type": "code",
   "execution_count": 5,
   "metadata": {},
   "outputs": [],
   "source": [
    "## Splitting the dataset into train and test sets\n",
    "\n",
    "X_train, X_test, y_train, y_test = train_test_split(X, y, test_size=0.4)"
   ]
  },
  {
   "cell_type": "code",
   "execution_count": 6,
   "metadata": {},
   "outputs": [
    {
     "name": "stdout",
     "output_type": "stream",
     "text": [
      "Shape of Training Data, Features: (300, 3); Labels (300,)\n",
      "Shape of Test Data, Features: (200, 3); Labels (200,)\n"
     ]
    }
   ],
   "source": [
    "print(f'Shape of Training Data, Features: {X_train.shape}; Labels {y_train.shape}')\n",
    "print(f'Shape of Test Data, Features: {X_test.shape}; Labels {y_test.shape}')"
   ]
  },
  {
   "cell_type": "markdown",
   "metadata": {},
   "source": [
    "## Implementation using Python"
   ]
  },
  {
   "cell_type": "code",
   "execution_count": 14,
   "metadata": {},
   "outputs": [],
   "source": [
    "## Defining a class for our linear regression with custom hypothesis\n",
    "\n",
    "class LinearRegression:\n",
    "\n",
    "    #Constructor\n",
    "    def __init__(self):\n",
    "        \n",
    "        n           = 4\n",
    "        self.theta  = np.zeros(n)\n",
    "     \n",
    "    \n",
    "    #Method for training\n",
    "    def fit(self, X, y, learning_rate, epochs):\n",
    "\n",
    "        loss_history = []\n",
    "\n",
    "        for epoch in range(epochs):           \n",
    "                \n",
    "            # Forward pass\n",
    "            h_x = self._forward(X)\n",
    "\n",
    "            # Computing Loss\n",
    "            loss = self._compute_loss(h_x, y)\n",
    "\n",
    "            # Backward Pass\n",
    "            grads = self._backward(h_x, y, X)\n",
    "\n",
    "            # Updating params\n",
    "            self._update_params(grads, learning_rate)\n",
    "\n",
    "            # Storing loss history\n",
    "            loss_history.append(loss)\n",
    "\n",
    "            # Print satement for verbosity\n",
    "            print(f'Epoch: {epoch}, Loss: {loss}')\n",
    "\n",
    "\n",
    "        return loss_history\n",
    "         \n",
    "\n",
    "    #Method for prediction\n",
    "    def predict(self, x):\n",
    "\n",
    "        return self._forward(x)\n",
    "\n",
    "    ####----------------------PRIVATE METHODS----------------------####\n",
    "    \n",
    "    def _forward(self, x):\n",
    "\n",
    "        h_x =   self.theta[1] * x[:, 0]**2 * 3              + \\\n",
    "                self.theta[2] * x[:, 1]**3                  - \\\n",
    "                self.theta[3] * x[:, 1]**3                  + \\\n",
    "                self.theta[2] * x[:, 2]**3 * self.theta[3]  + \\\n",
    "                self.theta[0]\n",
    "        \n",
    "        return h_x\n",
    "\n",
    "    def _backward(self, h_x, y, X):\n",
    "\n",
    "        m     = len(X)        \n",
    "        grads = np.zeros(self.theta.shape)\n",
    "        error = h_x - y         \n",
    "\n",
    "        grads[0] = (error).sum() / m\n",
    "        grads[1] = (error *  X[:, 0]**2 * 3).sum() / m\n",
    "        grads[2] = (error *  X[:, 1]**3 + self.theta[3] * X[:, 2]**3).sum() / m\n",
    "        grads[3] = (error * -X[:, 1]**3 + self.theta[2] * X[:, 2]**3).sum() / m\n",
    "\n",
    "        return grads\n",
    "\n",
    "    def _update_params(self, grads, learning_rate):\n",
    "\n",
    "        self.theta -= learning_rate * grads\n",
    "        \n",
    "\n",
    "    def _compute_loss(self, h_x, y):\n",
    "\n",
    "        m    =  len(h_x)\n",
    "        loss = ((h_x - y)**2).sum() / (2 * m) \n",
    "\n",
    "        return loss"
   ]
  },
  {
   "cell_type": "code",
   "execution_count": 51,
   "metadata": {},
   "outputs": [],
   "source": [
    "## Creating the model and defining variables for its training\n",
    "\n",
    "model = LinearRegression()\n",
    "\n",
    "learning_rate = 0.001\n",
    "epochs        = 5"
   ]
  },
  {
   "cell_type": "code",
   "execution_count": 52,
   "metadata": {},
   "outputs": [
    {
     "name": "stdout",
     "output_type": "stream",
     "text": [
      "Epoch: 0, Loss: 6109.495980692822\n",
      "Epoch: 1, Loss: 6094.374938989847\n",
      "Epoch: 2, Loss: 6083.584296132705\n",
      "Epoch: 3, Loss: 6076.859091279902\n",
      "Epoch: 4, Loss: 6073.95636196121\n"
     ]
    }
   ],
   "source": [
    "## Training the Model\n",
    "\n",
    "loss_hist = model.fit(X_train, y_train, learning_rate, epochs)"
   ]
  },
  {
   "cell_type": "code",
   "execution_count": 53,
   "metadata": {},
   "outputs": [],
   "source": [
    "## Predicting on Test set \n",
    "\n",
    "preds = model.predict(X_test)"
   ]
  },
  {
   "cell_type": "code",
   "execution_count": 54,
   "metadata": {},
   "outputs": [],
   "source": [
    "## Calculating Mean Squared Error\n",
    "\n",
    "test_mse = mean_squared_error(y_test, preds)"
   ]
  },
  {
   "cell_type": "code",
   "execution_count": 55,
   "metadata": {},
   "outputs": [
    {
     "name": "stdout",
     "output_type": "stream",
     "text": [
      "The Mean Squared Error on Test Set for the Linear Regression implemented in Python is 10977.31\n"
     ]
    }
   ],
   "source": [
    "print(f'The Mean Squared Error on Test Set for the Linear Regression implemented in Python is {test_mse:.2f}')"
   ]
  },
  {
   "cell_type": "code",
   "execution_count": 56,
   "metadata": {},
   "outputs": [
    {
     "data": {
      "text/plain": [
       "Text(0, 0.5, 'Mean Squared Error')"
      ]
     },
     "execution_count": 56,
     "metadata": {},
     "output_type": "execute_result"
    },
    {
     "data": {
      "image/png": "[encoded data removed]",
      "text/plain": [
       "<Figure size 432x288 with 1 Axes>"
      ]
     },
     "metadata": {
      "needs_background": "light"
     },
     "output_type": "display_data"
    }
   ],
   "source": [
    "plt.plot(loss_hist)\n",
    "\n",
    "plt.title(\"Loss History for Python Implementation\")\n",
    "plt.xlabel(\"Epochs\")\n",
    "plt.ylabel(\"Mean Squared Error\")"
   ]
  },
  {
   "cell_type": "markdown",
   "metadata": {},
   "source": [
    "## Implenting using PyTorch"
   ]
  },
  {
   "cell_type": "code",
   "execution_count": 27,
   "metadata": {},
   "outputs": [],
   "source": [
    "import torch\n",
    "import torch.nn as nn\n",
    "import numpy as np\n",
    "from torch.autograd import Variable"
   ]
  },
  {
   "cell_type": "code",
   "execution_count": 28,
   "metadata": {},
   "outputs": [],
   "source": [
    "## Defining Custom PyTorch Layer which will implement hypothesis given in the question\n",
    "\n",
    "class Hypothesis(nn.Module):\n",
    "    \"\"\"\n",
    "    Custom PyTorch layer that implements the hypothesis given in question\n",
    "    \"\"\"\n",
    "\n",
    "    # Constructor\n",
    "    def __init__(self):\n",
    "        \n",
    "        # Defining variables required by PyTorch to perform computations\n",
    "        super().__init__()\n",
    "        self.size    = 3\n",
    "        weights      = torch.Tensor(self.size)\n",
    "        self.weights = nn.Parameter(weights)\n",
    "        \n",
    "        bias         = torch.Tensor(1)\n",
    "        self.bias    = nn.Parameter(bias)\n",
    "\n",
    "        torch.nn.init.zeros_(self.weights)\n",
    "        torch.nn.init.zeros_(self.bias)\n",
    "        \n",
    "\n",
    "    # Forward Pass\n",
    "    def forward(self, x):\n",
    "\n",
    "        h_x =   self.weights[0] * x[:, 0]**2 * 3                + \\\n",
    "                self.weights[1] * x[:, 1]**3                    - \\\n",
    "                self.weights[2] * x[:, 1]**3                    + \\\n",
    "                self.weights[1] * x[:, 2]**3 * self.weights[2]  + \\\n",
    "                self.bias\n",
    "        \n",
    "        return h_x"
   ]
  },
  {
   "cell_type": "code",
   "execution_count": 29,
   "metadata": {},
   "outputs": [],
   "source": [
    "## class for Linear Regression that uses our custom Hypothesis layer\n",
    "\n",
    "class LinearRegression2(nn.Module):\n",
    "\n",
    "    def __init__(self):\n",
    "        super().__init__()\n",
    "        self.hypothesis = Hypothesis()\n",
    "\n",
    "    def forward(self, x):\n",
    "        out = self.hypothesis(x)\n",
    "        return out"
   ]
  },
  {
   "cell_type": "code",
   "execution_count": 30,
   "metadata": {},
   "outputs": [],
   "source": [
    "model2 = LinearRegression2()\n",
    "\n",
    "learning_rate = 0.001\n",
    "epochs        = 5"
   ]
  },
  {
   "cell_type": "code",
   "execution_count": 31,
   "metadata": {},
   "outputs": [],
   "source": [
    "criterion = nn.MSELoss() \n",
    "optimizer = torch.optim.SGD(model2.parameters(), lr=learning_rate)"
   ]
  },
  {
   "cell_type": "code",
   "execution_count": 32,
   "metadata": {},
   "outputs": [
    {
     "name": "stdout",
     "output_type": "stream",
     "text": [
      "epoch: 0, loss: 12218.991961385644\n",
      "epoch: 1, loss: 12166.7558174311\n",
      "epoch: 2, loss: 12151.382718945562\n",
      "epoch: 3, loss: 12145.149608180453\n",
      "epoch: 4, loss: 12141.317415624646\n"
     ]
    }
   ],
   "source": [
    "loss_hist2 = []\n",
    "\n",
    "for epoch in range(epochs):\n",
    "\n",
    "    inputs = Variable(torch.from_numpy(X_train))\n",
    "    labels = Variable(torch.from_numpy(y_train))\n",
    "\n",
    "    # Clear gradient buffers because we dont want to cummulate gradients\n",
    "    optimizer.zero_grad()\n",
    "\n",
    "    # Performing Forward pass\n",
    "    outputs = model2(inputs)\n",
    "\n",
    "    # Calculting the loss\n",
    "    loss = criterion(outputs, labels)\n",
    "\n",
    "    # Performing Backward pass\n",
    "    loss.backward()\n",
    "\n",
    "    # Updating Parameters\n",
    "    optimizer.step()\n",
    "\n",
    "    # Storing loss history\n",
    "    loss_hist2.append(loss)\n",
    "\n",
    "\n",
    "    print('epoch: {}, loss: {}'.format(epoch, loss.item()))"
   ]
  },
  {
   "cell_type": "code",
   "execution_count": 33,
   "metadata": {},
   "outputs": [],
   "source": [
    "## Predicting on Test set \n",
    "\n",
    "inputs = Variable(torch.from_numpy(X_test))\n",
    "preds2 = model2(inputs)"
   ]
  },
  {
   "cell_type": "code",
   "execution_count": 34,
   "metadata": {},
   "outputs": [],
   "source": [
    "## Calculating Mean Squared Error on Test set\n",
    "\n",
    "test_mse2 = mean_squared_error(y_test, preds2.detach().numpy())"
   ]
  },
  {
   "cell_type": "code",
   "execution_count": 35,
   "metadata": {},
   "outputs": [
    {
     "name": "stdout",
     "output_type": "stream",
     "text": [
      "The Mean Squared Error on Test Set for the Linear Regression implemented in PyTorch is 10981.56\n"
     ]
    }
   ],
   "source": [
    "print(f'The Mean Squared Error on Test Set for the Linear Regression implemented in PyTorch is {test_mse2:.2f}')"
   ]
  },
  {
   "cell_type": "code",
   "execution_count": 36,
   "metadata": {},
   "outputs": [
    {
     "data": {
      "text/plain": [
       "Text(0, 0.5, 'Mean Squared Error')"
      ]
     },
     "execution_count": 36,
     "metadata": {},
     "output_type": "execute_result"
    },
    {
     "data": {
      "image/png": "[encoded data removed]",
      "text/plain": [
       "<Figure size 432x288 with 1 Axes>"
      ]
     },
     "metadata": {
      "needs_background": "light"
     },
     "output_type": "display_data"
    }
   ],
   "source": [
    "plt.plot(loss_hist2)\n",
    "\n",
    "plt.title(\"Loss History for PyToch Implementation\")\n",
    "plt.xlabel(\"Epochs\")\n",
    "plt.ylabel(\"Mean Squared Error\")"
   ]
  },
  {
   "cell_type": "code",
   "execution_count": null,
   "metadata": {},
   "outputs": [],
   "source": []
  }
 ],
 "metadata": {
  "interpreter": {
   "hash": "db3ca9ec755843094bfe658d337cf97d381b019c52f517307d44cf002f9583d1"
  },
  "kernelspec": {
   "display_name": "Python 3.8.3 64-bit",
   "language": "python",
   "name": "python3"
  },
  "language_info": {
   "codemirror_mode": {
    "name": "ipython",
    "version": 3
   },
   "file_extension": ".py",
   "mimetype": "text/x-python",
   "name": "python",
   "nbconvert_exporter": "python",
   "pygments_lexer": "ipython3",
   "version": "3.8.3"
  },
  "orig_nbformat": 4
 },
 "nbformat": 4,
 "nbformat_minor": 2
}
